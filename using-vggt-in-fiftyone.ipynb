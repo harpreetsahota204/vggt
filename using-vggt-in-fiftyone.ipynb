{
 "cells": [
  {
   "cell_type": "markdown",
   "metadata": {},
   "source": [
    "# Using VGGT as a FiftyOne Remote Source Zoo Model\n",
    "\n",
    "Let's start by downloading a dataset. This one of Marvel Masterpiece trading cards. Let's see how well the model handles this."
   ]
  },
  {
   "cell_type": "code",
   "execution_count": 1,
   "metadata": {},
   "outputs": [
    {
     "name": "stdout",
     "output_type": "stream",
     "text": [
      "Downloading config file fiftyone.yml from Voxel51/Total-Text-Dataset\n"
     ]
    },
    {
     "data": {
      "application/vnd.jupyter.widget-view+json": {
       "model_id": "9c1462e6aa184a599caaac23668f52fc",
       "version_major": 2,
       "version_minor": 0
      },
      "text/plain": [
       "fiftyone.yml:   0%|          | 0.00/115 [00:00<?, ?B/s]"
      ]
     },
     "metadata": {},
     "output_type": "display_data"
    },
    {
     "name": "stdout",
     "output_type": "stream",
     "text": [
      "Loading dataset\n",
      "Importing samples...\n",
      " 100% |███████████████| 1555/1555 [62.9ms elapsed, 0s remaining, 24.7K samples/s]   \n",
      "Migrating dataset 'Voxel51/Total-Text-Dataset' to v1.7.0\n",
      "Downloading 1555 media files...\n"
     ]
    },
    {
     "name": "stderr",
     "output_type": "stream",
     "text": [
      "100%|██████████| 16/16 [00:56<00:00,  3.55s/it]\n"
     ]
    }
   ],
   "source": [
    "import fiftyone as fo\n",
    "from fiftyone.utils.huggingface import load_from_hub\n",
    "\n",
    "dataset = load_from_hub(\"Voxel51/Total-Text-Dataset\")"
   ]
  },
  {
   "cell_type": "markdown",
   "metadata": {},
   "source": [
    "## Set up the model source\n",
    "\n",
    "First, you need to register the model source. You can do so as shown here:"
   ]
  },
  {
   "cell_type": "code",
   "execution_count": 2,
   "metadata": {},
   "outputs": [
    {
     "name": "stdout",
     "output_type": "stream",
     "text": [
      "Downloading https://github.com/harpreetsahota204/vggt...\n",
      " 100% |████|  128.5Kb/128.5Kb [49.1ms elapsed, 0s remaining, 2.7Mb/s] \n",
      "Overwriting existing model source '/home/harpreet/fiftyone/__models__/VGGT'\n"
     ]
    }
   ],
   "source": [
    "import fiftyone.zoo as foz\n",
    "\n",
    "foz.register_zoo_model_source(\n",
    "    \"https://github.com/harpreetsahota204/vggt\",\n",
    "    overwrite=True\n",
    ")"
   ]
  },
  {
   "cell_type": "markdown",
   "metadata": {},
   "source": [
    "Next, you need to instantiate the model:"
   ]
  },
  {
   "cell_type": "code",
   "execution_count": null,
   "metadata": {},
   "outputs": [],
   "source": [
    "model = foz.load_zoo_model(\n",
    "    \"facebook/VGGT-1B\",\n",
    "    mode=\"crop\", # you can also pass \"pad\",\n",
    "    confidence_threshold=0.7\n",
    "    )"
   ]
  },
  {
   "cell_type": "markdown",
   "metadata": {},
   "source": [
    "Finally, you can apply the model to your dataset:"
   ]
  },
  {
   "cell_type": "code",
   "execution_count": null,
   "metadata": {},
   "outputs": [
    {
     "name": "stderr",
     "output_type": "stream",
     "text": [
      "/home/harpreet/miniconda3/envs/fo_develop/lib/python3.11/site-packages/vggt/models/vggt.py:63: FutureWarning: `torch.cuda.amp.autocast(args...)` is deprecated. Please use `torch.amp.autocast('cuda', args...)` instead.\n",
      "  with torch.cuda.amp.autocast(enabled=False):\n"
     ]
    },
    {
     "name": "stdout",
     "output_type": "stream",
     "text": [
      "  82% |████████████|--| 1269/1555 [6.6m elapsed, 1.5m remaining, 3.3 samples/s]   "
     ]
    }
   ],
   "source": [
    "dataset.apply_model(model, \"depth_map_path\")"
   ]
  },
  {
   "cell_type": "markdown",
   "metadata": {},
   "source": [
    "Note, we are saving only the paths to the depth map as a dummy field. We won't have these as a part of our original dataset, instead we will create a Grouped Dataset (shown below):"
   ]
  },
  {
   "cell_type": "code",
   "execution_count": null,
   "metadata": {},
   "outputs": [],
   "source": [
    "import fiftyone as fo\n",
    "import os\n",
    "from pathlib import Path\n",
    "\n",
    "# Get filepaths from your existing dataset\n",
    "filepaths = dataset.values(\"filepath\")\n",
    "\n",
    "# Create a new grouped dataset\n",
    "grouped_dataset = fo.Dataset(\"vggt_results\", overwrite=True)\n",
    "grouped_dataset.add_group_field(\"group\", default=\"rgb\")\n",
    "\n",
    "# Process each filepath and create the group structure\n",
    "samples = []\n",
    "for filepath in filepaths:\n",
    "    # Extract base information from the filepath\n",
    "    path = Path(filepath)\n",
    "    base_dir = path.parent\n",
    "    base_name = path.stem\n",
    "    \n",
    "    # Create paths for each modality following your pattern\n",
    "    rgb_path = filepath  # Original filepath (RGB)\n",
    "    depth_path = os.path.join(base_dir, f\"{base_name}_depth.png\")  # Depth map\n",
    "    threed_path = os.path.join(base_dir, f\"{base_name}.fo3d\")  # 3D point cloud\n",
    "    \n",
    "    # Create a group for these related samples\n",
    "    group = fo.Group()\n",
    "    \n",
    "    # Create a sample for each modality with the appropriate group element\n",
    "    rgb_sample = fo.Sample(filepath=rgb_path, group=group.element(\"rgb\"))\n",
    "    depth_sample = fo.Sample(filepath=depth_path, group=group.element(\"depth\"))\n",
    "    threed_sample = fo.Sample(filepath=threed_path, group=group.element(\"threed\"))\n",
    "    \n",
    "    # Add samples to the list\n",
    "    samples.extend([rgb_sample, depth_sample, threed_sample])\n",
    "\n",
    "# Add all samples to the dataset\n",
    "grouped_dataset.add_samples(samples)"
   ]
  },
  {
   "cell_type": "markdown",
   "metadata": {},
   "source": [
    "Now we can view the results in the FiftyOne App"
   ]
  },
  {
   "cell_type": "code",
   "execution_count": null,
   "metadata": {},
   "outputs": [],
   "source": [
    "fo.launch_app(grouped_dataset)"
   ]
  }
 ],
 "metadata": {
  "kernelspec": {
   "display_name": "fo_develop",
   "language": "python",
   "name": "python3"
  },
  "language_info": {
   "codemirror_mode": {
    "name": "ipython",
    "version": 3
   },
   "file_extension": ".py",
   "mimetype": "text/x-python",
   "name": "python",
   "nbconvert_exporter": "python",
   "pygments_lexer": "ipython3",
   "version": "3.11.11"
  }
 },
 "nbformat": 4,
 "nbformat_minor": 2
}
